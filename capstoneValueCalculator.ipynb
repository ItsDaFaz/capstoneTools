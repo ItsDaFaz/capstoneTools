{
  "nbformat": 4,
  "nbformat_minor": 0,
  "metadata": {
    "colab": {
      "name": "Copy of capstoneValueCalculator.ipynb",
      "provenance": [],
      "collapsed_sections": []
    },
    "kernelspec": {
      "name": "python3",
      "display_name": "Python 3"
    }
  },
  "cells": [
    {
      "cell_type": "code",
      "metadata": {
        "id": "JpdZ2MSIc-We",
        "colab": {
          "base_uri": "https://localhost:8080/",
          "height": 476
        },
        "outputId": "bf190417-d9a1-4f87-c566-66e76187d35e"
      },
      "source": [
        "!pip install --upgrade \"ibm-watson>=4.2.1\""
      ],
      "execution_count": null,
      "outputs": [
        {
          "output_type": "stream",
          "text": [
            "Collecting ibm-watson>=4.2.1\n",
            "\u001b[?25l  Downloading https://files.pythonhosted.org/packages/dc/da/10f8774b319acdda29885931c01fae862622519bff492957c73b0ba84743/ibm-watson-4.5.0.tar.gz (370kB)\n",
            "\u001b[K     |████████████████████████████████| 378kB 3.5MB/s \n",
            "\u001b[?25hRequirement already satisfied, skipping upgrade: requests<3.0,>=2.0 in /usr/local/lib/python3.6/dist-packages (from ibm-watson>=4.2.1) (2.23.0)\n",
            "Requirement already satisfied, skipping upgrade: python_dateutil>=2.5.3 in /usr/local/lib/python3.6/dist-packages (from ibm-watson>=4.2.1) (2.8.1)\n",
            "Collecting websocket-client==0.48.0\n",
            "\u001b[?25l  Downloading https://files.pythonhosted.org/packages/8a/a1/72ef9aa26cfe1a75cee09fc1957e4723add9de098c15719416a1ee89386b/websocket_client-0.48.0-py2.py3-none-any.whl (198kB)\n",
            "\u001b[K     |████████████████████████████████| 204kB 11.3MB/s \n",
            "\u001b[?25hCollecting ibm_cloud_sdk_core==1.5.1\n",
            "  Downloading https://files.pythonhosted.org/packages/b7/f6/10d5271c807d73d236e6ae07b68035fed78b28b5ab836704d34097af3986/ibm-cloud-sdk-core-1.5.1.tar.gz\n",
            "Requirement already satisfied, skipping upgrade: certifi>=2017.4.17 in /usr/local/lib/python3.6/dist-packages (from requests<3.0,>=2.0->ibm-watson>=4.2.1) (2020.6.20)\n",
            "Requirement already satisfied, skipping upgrade: idna<3,>=2.5 in /usr/local/lib/python3.6/dist-packages (from requests<3.0,>=2.0->ibm-watson>=4.2.1) (2.9)\n",
            "Requirement already satisfied, skipping upgrade: chardet<4,>=3.0.2 in /usr/local/lib/python3.6/dist-packages (from requests<3.0,>=2.0->ibm-watson>=4.2.1) (3.0.4)\n",
            "Requirement already satisfied, skipping upgrade: urllib3!=1.25.0,!=1.25.1,<1.26,>=1.21.1 in /usr/local/lib/python3.6/dist-packages (from requests<3.0,>=2.0->ibm-watson>=4.2.1) (1.24.3)\n",
            "Requirement already satisfied, skipping upgrade: six>=1.5 in /usr/local/lib/python3.6/dist-packages (from python_dateutil>=2.5.3->ibm-watson>=4.2.1) (1.12.0)\n",
            "Collecting PyJWT>=1.7.1\n",
            "  Downloading https://files.pythonhosted.org/packages/87/8b/6a9f14b5f781697e51259d81657e6048fd31a113229cf346880bb7545565/PyJWT-1.7.1-py2.py3-none-any.whl\n",
            "Building wheels for collected packages: ibm-watson, ibm-cloud-sdk-core\n",
            "  Building wheel for ibm-watson (setup.py) ... \u001b[?25l\u001b[?25hdone\n",
            "  Created wheel for ibm-watson: filename=ibm_watson-4.5.0-cp36-none-any.whl size=364301 sha256=25f0b48f3f73eb8ad72bbbbd378de9cb62e9ed9ed119dbf9e2b064c78e11449b\n",
            "  Stored in directory: /root/.cache/pip/wheels/71/9a/0a/9b3ca8eca69bc5362eb04709a750b30055a9d27818fd0c9494\n",
            "  Building wheel for ibm-cloud-sdk-core (setup.py) ... \u001b[?25l\u001b[?25hdone\n",
            "  Created wheel for ibm-cloud-sdk-core: filename=ibm_cloud_sdk_core-1.5.1-cp36-none-any.whl size=44491 sha256=b4339ae7ac4e308c56eb4d7151cf31d8b70aa397f09205c4a2951ccb0d8c9950\n",
            "  Stored in directory: /root/.cache/pip/wheels/6a/42/50/f96888116b329578304f9dda4693cef6f3e76e18272d22cb6c\n",
            "Successfully built ibm-watson ibm-cloud-sdk-core\n",
            "Installing collected packages: websocket-client, PyJWT, ibm-cloud-sdk-core, ibm-watson\n",
            "Successfully installed PyJWT-1.7.1 ibm-cloud-sdk-core-1.5.1 ibm-watson-4.5.0 websocket-client-0.48.0\n"
          ],
          "name": "stdout"
        }
      ]
    },
    {
      "cell_type": "code",
      "metadata": {
        "id": "ObWPndflt08u"
      },
      "source": [
        "def timetounix(date,time):\n",
        "  #for split date     0. Date     1. Month      2.Year\n",
        "  splitdate=date.split('/')\n",
        "\n",
        "  splitclock=time.split()\n",
        "\n",
        "  splittime=splitclock[0].split(\":\")\n",
        "  \n",
        "  #if(splitclock[1]==\"PM\"):\n",
        "  #  splittime[0]=str(int(splittime[0])+12)\n",
        "\n",
        "  if(int(splitdate[2])<2000):\n",
        "    splitdate[2]=str(int(splitdate[2])+2000)\n",
        "  print(\"year is \",splitdate[2])\n",
        "\n",
        "  print(\"Time test: \",splittime)\n",
        "  print(\"Date test: \",splitdate)\n",
        "\n",
        "  return splitdate,splittime\n",
        "  "
      ],
      "execution_count": null,
      "outputs": []
    },
    {
      "cell_type": "code",
      "metadata": {
        "id": "1tWyKskZuYD7"
      },
      "source": [
        "import json\n",
        "import csv\n",
        "import pandas as pd\n",
        "import sys\n",
        "import datetime\n",
        "import time\n",
        "from google.colab import files\n",
        "\n",
        "from ibm_watson import PersonalityInsightsV3\n",
        "from ibm_cloud_sdk_core.authenticators import IAMAuthenticator"
      ],
      "execution_count": null,
      "outputs": []
    },
    {
      "cell_type": "code",
      "metadata": {
        "id": "GtVLWK-YE66k"
      },
      "source": [
        "def valueCalculate(screen_name,month):\n",
        "  apikey='apikey'\n",
        "  url='url'\n",
        "  print(\"Processing Values....\")\n",
        "  auth=IAMAuthenticator(apikey)\n",
        "  service = PersonalityInsightsV3(authenticator=auth, version='2017-10-13')\n",
        "  service.set_service_url(url)\n",
        "  fileP=open('%s%s.json'%(screen_name,month))\n",
        "  fileReadLine=fileP.read()\n",
        "  tweetDict=json.loads(fileReadLine)\n",
        "  #print(tweetDict[1]['content'])\n",
        "\n",
        "  with open('%s%s.json'%(screen_name,month),'r') as profile_json:\n",
        "    profileJSON=service.profile(profile_json.read(),accept='application/json',content_type='application/json').get_result()\n",
        "  profile_json.close()\n",
        "    \n",
        "  with open('%s%s_profile.json'%(screen_name,month),'w')as j:\n",
        "    text = json.dumps(profileJSON,indent=2,default=str)\n",
        "    j.write(text)\n",
        "  j.close()\n",
        "  print(\"done\")\n",
        "\n",
        "\n",
        "        "
      ],
      "execution_count": null,
      "outputs": []
    },
    {
      "cell_type": "code",
      "metadata": {
        "id": "rVujSKQ9oeZq"
      },
      "source": [
        "def csvToJson(filename):\n",
        "  #from CSV\n",
        "  data=pd.read_csv(\"%s.csv\"%filename)\n",
        "  dataLen=len(data)\n",
        "  dataDict=dict()\n",
        "  dataList=[]\n",
        "  dataDict['contentItems']=dataList \n",
        "  for i,rows in data.iterrows():\n",
        "    dataIter=dict()\n",
        "      \n",
        "    dataIter['content']=rows.postcontent\n",
        "\n",
        "    splitdate,splittime=timetounix(rows.date,rows.time)\n",
        "    d=datetime.datetime(int(splitdate[2]),int(splitdate[1]),int(splitdate[0]))\n",
        "    unixtime = time.mktime(d.timetuple())\n",
        "    dataIter['created']=int(unixtime)\n",
        "    dataIter['id']=str(rows.id)\n",
        "    dataIter['reply']=rows.isreply\n",
        "    dataIter['forward']=rows.isforward\n",
        "    dataList.append(dataIter)\n",
        "\n",
        "    #to JSON\n",
        "\n",
        "\n",
        "    with open(\"%s.json\"%filename,'w',encoding=\"utf8\")as f:\n",
        "      text=json.dumps(dataDict,indent=2,default=str)\n",
        "      f.write(text)\n",
        "    f.close()\n",
        "\n",
        "\n",
        "\n",
        "  "
      ],
      "execution_count": null,
      "outputs": []
    },
    {
      "cell_type": "code",
      "metadata": {
        "id": "6ELoQFcEuaBD"
      },
      "source": [
        "#proper\n",
        "\n",
        "def csvToJsonPatch(filename):\n",
        "  print(\"IN \",filename)\n",
        "  data=pd.read_csv(\"%s.csv\"%filename)\n",
        "  dataLen=len(data)\n",
        "  dataDict=dict()\n",
        "  dataList=[]\n",
        "  dataDict['contentItems']=dataList \n",
        "  dateTemp=0\n",
        "  perDayLimit=0\n",
        "  for i,rows in data.iterrows():\n",
        "    dataIter=dict()\n",
        "      \n",
        "    dataIter['content']=rows.postcontent\n",
        "    dataList.append(dataIter)\n",
        "    perDayLimit=perDayLimit+1\n",
        "    if perDayLimit==10:\n",
        "      dateTemp=dateTemp+1\n",
        "      perDayLimit=0\n",
        "    \n",
        "\n",
        "    #to JSON\n",
        "\n",
        "\n",
        "    with open(\"%s.json\"%filename,'w',encoding=\"utf8\")as f:\n",
        "      text=json.dumps(dataDict,indent=2,default=str)\n",
        "      f.write(text)\n",
        "    f.close()\n",
        "  \n"
      ],
      "execution_count": null,
      "outputs": []
    },
    {
      "cell_type": "code",
      "metadata": {
        "id": "9AnMrQPhJWJj"
      },
      "source": [
        "#Proper File Name \n",
        "\n",
        "ready=input()\n",
        "#month=[\"november\",\"december\",\"january\",\"february\",\"march\",\"april\"]\n",
        "#screen_name=[\"p\",\"f1\",\"f2\",\"f3\",\"f4\",\"f5\"]\n",
        "\n",
        "exceptList=[]\n",
        "\n",
        "for i in range(0,len(screen_name)):\n",
        "  print(i)\n",
        "  for j in range(0,len(month)):\n",
        "    try:\n",
        "      print(j)\n",
        "      print(\"OUT \",\"%s%s\"%(screen_name[i],monthC[j]))\n",
        "      csvToJsonPatch(\"%s%s\"%(screen_name[i],monthC[j]))\n",
        "      valueCalculate(screen_name[i],monthC[j])\n",
        "    except Exception:\n",
        "      print(Exception)\n",
        "      \n",
        "\n",
        "      \n",
        "    \n",
        "\n",
        "\n",
        "\n",
        "#jsonToCsv(\"PersonalGroup\")"
      ],
      "execution_count": null,
      "outputs": []
    },
    {
      "cell_type": "code",
      "metadata": {
        "id": "HqfscFdqdNr2",
        "colab": {
          "base_uri": "https://localhost:8080/",
          "height": 102
        },
        "outputId": "5e0a0971-60b4-402e-dd6d-505f017cb4c7"
      },
      "source": [
        "listofName=[]\n",
        "print(\"Enter lower number\")\n",
        "lowNum=int(input())\n",
        "print(\"Enter higher number\")\n",
        "hiNum=int(input())\n",
        "for i in range(lowNum,hiNum+1):\n",
        "  tempString=\"f%s\"%i\n",
        "  listofName.append(tempString)\n",
        "print(listofName)\n",
        "\n"
      ],
      "execution_count": null,
      "outputs": [
        {
          "output_type": "stream",
          "text": [
            "Enter lower number\n",
            "110\n",
            "Enter higher number\n",
            "112\n",
            "['f110', 'f111', 'f112']\n"
          ],
          "name": "stdout"
        }
      ]
    },
    {
      "cell_type": "code",
      "metadata": {
        "id": "OAQPw5sR3Ugg",
        "colab": {
          "base_uri": "https://localhost:8080/",
          "height": 34
        },
        "outputId": "d8ece35d-9542-4bda-8c09-0a380d5000f1"
      },
      "source": [
        "!rm *"
      ],
      "execution_count": null,
      "outputs": [
        {
          "output_type": "stream",
          "text": [
            "rm: cannot remove 'sample_data': Is a directory\n"
          ],
          "name": "stdout"
        }
      ]
    },
    {
      "cell_type": "code",
      "metadata": {
        "id": "HIb8OwLZNxU3",
        "colab": {
          "base_uri": "https://localhost:8080/",
          "height": 51
        },
        "outputId": "e3b9568c-74a2-463f-b6bb-526121fccd85"
      },
      "source": [
        "def redownloadFunc(screen_name):\n",
        "\n",
        " for i in range(0,len(screen_name)):\n",
        "  print(i)\n",
        "  for j in range(0,len(month)):\n",
        "    try:\n",
        "      files.download('%s%s_profile.json'%(screen_name[i],month[j])) \n",
        "      \n",
        "    except Exception:\n",
        "      print(Exception)\n",
        "\n",
        "redownloadFunc(screen_name)"
      ],
      "execution_count": null,
      "outputs": [
        {
          "output_type": "stream",
          "text": [
            "0\n"
          ],
          "name": "stdout"
        },
        {
          "output_type": "display_data",
          "data": {
            "application/javascript": [
              "\n",
              "    async function download(id, filename, size) {\n",
              "      if (!google.colab.kernel.accessAllowed) {\n",
              "        return;\n",
              "      }\n",
              "      const div = document.createElement('div');\n",
              "      const label = document.createElement('label');\n",
              "      label.textContent = `Downloading \"${filename}\": `;\n",
              "      div.appendChild(label);\n",
              "      const progress = document.createElement('progress');\n",
              "      progress.max = size;\n",
              "      div.appendChild(progress);\n",
              "      document.body.appendChild(div);\n",
              "\n",
              "      const buffers = [];\n",
              "      let downloaded = 0;\n",
              "\n",
              "      const channel = await google.colab.kernel.comms.open(id);\n",
              "      // Send a message to notify the kernel that we're ready.\n",
              "      channel.send({})\n",
              "\n",
              "      for await (const message of channel.messages) {\n",
              "        // Send a message to notify the kernel that we're ready.\n",
              "        channel.send({})\n",
              "        if (message.buffers) {\n",
              "          for (const buffer of message.buffers) {\n",
              "            buffers.push(buffer);\n",
              "            downloaded += buffer.byteLength;\n",
              "            progress.value = downloaded;\n",
              "          }\n",
              "        }\n",
              "      }\n",
              "      const blob = new Blob(buffers, {type: 'application/binary'});\n",
              "      const a = document.createElement('a');\n",
              "      a.href = window.URL.createObjectURL(blob);\n",
              "      a.download = filename;\n",
              "      div.appendChild(a);\n",
              "      a.click();\n",
              "      div.remove();\n",
              "    }\n",
              "  "
            ],
            "text/plain": [
              "<IPython.core.display.Javascript object>"
            ]
          },
          "metadata": {
            "tags": []
          }
        },
        {
          "output_type": "display_data",
          "data": {
            "application/javascript": [
              "download(\"download_3137d570-96fb-45b6-8f82-9151e63534e2\", \"f122november_profile.json\", 10830)"
            ],
            "text/plain": [
              "<IPython.core.display.Javascript object>"
            ]
          },
          "metadata": {
            "tags": []
          }
        },
        {
          "output_type": "display_data",
          "data": {
            "application/javascript": [
              "\n",
              "    async function download(id, filename, size) {\n",
              "      if (!google.colab.kernel.accessAllowed) {\n",
              "        return;\n",
              "      }\n",
              "      const div = document.createElement('div');\n",
              "      const label = document.createElement('label');\n",
              "      label.textContent = `Downloading \"${filename}\": `;\n",
              "      div.appendChild(label);\n",
              "      const progress = document.createElement('progress');\n",
              "      progress.max = size;\n",
              "      div.appendChild(progress);\n",
              "      document.body.appendChild(div);\n",
              "\n",
              "      const buffers = [];\n",
              "      let downloaded = 0;\n",
              "\n",
              "      const channel = await google.colab.kernel.comms.open(id);\n",
              "      // Send a message to notify the kernel that we're ready.\n",
              "      channel.send({})\n",
              "\n",
              "      for await (const message of channel.messages) {\n",
              "        // Send a message to notify the kernel that we're ready.\n",
              "        channel.send({})\n",
              "        if (message.buffers) {\n",
              "          for (const buffer of message.buffers) {\n",
              "            buffers.push(buffer);\n",
              "            downloaded += buffer.byteLength;\n",
              "            progress.value = downloaded;\n",
              "          }\n",
              "        }\n",
              "      }\n",
              "      const blob = new Blob(buffers, {type: 'application/binary'});\n",
              "      const a = document.createElement('a');\n",
              "      a.href = window.URL.createObjectURL(blob);\n",
              "      a.download = filename;\n",
              "      div.appendChild(a);\n",
              "      a.click();\n",
              "      div.remove();\n",
              "    }\n",
              "  "
            ],
            "text/plain": [
              "<IPython.core.display.Javascript object>"
            ]
          },
          "metadata": {
            "tags": []
          }
        },
        {
          "output_type": "display_data",
          "data": {
            "application/javascript": [
              "download(\"download_6a70669c-e51e-46cb-a96c-708a949f4419\", \"f122december_profile.json\", 10816)"
            ],
            "text/plain": [
              "<IPython.core.display.Javascript object>"
            ]
          },
          "metadata": {
            "tags": []
          }
        },
        {
          "output_type": "display_data",
          "data": {
            "application/javascript": [
              "\n",
              "    async function download(id, filename, size) {\n",
              "      if (!google.colab.kernel.accessAllowed) {\n",
              "        return;\n",
              "      }\n",
              "      const div = document.createElement('div');\n",
              "      const label = document.createElement('label');\n",
              "      label.textContent = `Downloading \"${filename}\": `;\n",
              "      div.appendChild(label);\n",
              "      const progress = document.createElement('progress');\n",
              "      progress.max = size;\n",
              "      div.appendChild(progress);\n",
              "      document.body.appendChild(div);\n",
              "\n",
              "      const buffers = [];\n",
              "      let downloaded = 0;\n",
              "\n",
              "      const channel = await google.colab.kernel.comms.open(id);\n",
              "      // Send a message to notify the kernel that we're ready.\n",
              "      channel.send({})\n",
              "\n",
              "      for await (const message of channel.messages) {\n",
              "        // Send a message to notify the kernel that we're ready.\n",
              "        channel.send({})\n",
              "        if (message.buffers) {\n",
              "          for (const buffer of message.buffers) {\n",
              "            buffers.push(buffer);\n",
              "            downloaded += buffer.byteLength;\n",
              "            progress.value = downloaded;\n",
              "          }\n",
              "        }\n",
              "      }\n",
              "      const blob = new Blob(buffers, {type: 'application/binary'});\n",
              "      const a = document.createElement('a');\n",
              "      a.href = window.URL.createObjectURL(blob);\n",
              "      a.download = filename;\n",
              "      div.appendChild(a);\n",
              "      a.click();\n",
              "      div.remove();\n",
              "    }\n",
              "  "
            ],
            "text/plain": [
              "<IPython.core.display.Javascript object>"
            ]
          },
          "metadata": {
            "tags": []
          }
        },
        {
          "output_type": "display_data",
          "data": {
            "application/javascript": [
              "download(\"download_613d57f6-e172-4036-be1c-fdcc12f95427\", \"f122january_profile.json\", 10820)"
            ],
            "text/plain": [
              "<IPython.core.display.Javascript object>"
            ]
          },
          "metadata": {
            "tags": []
          }
        },
        {
          "output_type": "display_data",
          "data": {
            "application/javascript": [
              "\n",
              "    async function download(id, filename, size) {\n",
              "      if (!google.colab.kernel.accessAllowed) {\n",
              "        return;\n",
              "      }\n",
              "      const div = document.createElement('div');\n",
              "      const label = document.createElement('label');\n",
              "      label.textContent = `Downloading \"${filename}\": `;\n",
              "      div.appendChild(label);\n",
              "      const progress = document.createElement('progress');\n",
              "      progress.max = size;\n",
              "      div.appendChild(progress);\n",
              "      document.body.appendChild(div);\n",
              "\n",
              "      const buffers = [];\n",
              "      let downloaded = 0;\n",
              "\n",
              "      const channel = await google.colab.kernel.comms.open(id);\n",
              "      // Send a message to notify the kernel that we're ready.\n",
              "      channel.send({})\n",
              "\n",
              "      for await (const message of channel.messages) {\n",
              "        // Send a message to notify the kernel that we're ready.\n",
              "        channel.send({})\n",
              "        if (message.buffers) {\n",
              "          for (const buffer of message.buffers) {\n",
              "            buffers.push(buffer);\n",
              "            downloaded += buffer.byteLength;\n",
              "            progress.value = downloaded;\n",
              "          }\n",
              "        }\n",
              "      }\n",
              "      const blob = new Blob(buffers, {type: 'application/binary'});\n",
              "      const a = document.createElement('a');\n",
              "      a.href = window.URL.createObjectURL(blob);\n",
              "      a.download = filename;\n",
              "      div.appendChild(a);\n",
              "      a.click();\n",
              "      div.remove();\n",
              "    }\n",
              "  "
            ],
            "text/plain": [
              "<IPython.core.display.Javascript object>"
            ]
          },
          "metadata": {
            "tags": []
          }
        },
        {
          "output_type": "display_data",
          "data": {
            "application/javascript": [
              "download(\"download_f19d6da1-21be-4a57-b726-70bf270cd10b\", \"f122february_profile.json\", 10822)"
            ],
            "text/plain": [
              "<IPython.core.display.Javascript object>"
            ]
          },
          "metadata": {
            "tags": []
          }
        },
        {
          "output_type": "display_data",
          "data": {
            "application/javascript": [
              "\n",
              "    async function download(id, filename, size) {\n",
              "      if (!google.colab.kernel.accessAllowed) {\n",
              "        return;\n",
              "      }\n",
              "      const div = document.createElement('div');\n",
              "      const label = document.createElement('label');\n",
              "      label.textContent = `Downloading \"${filename}\": `;\n",
              "      div.appendChild(label);\n",
              "      const progress = document.createElement('progress');\n",
              "      progress.max = size;\n",
              "      div.appendChild(progress);\n",
              "      document.body.appendChild(div);\n",
              "\n",
              "      const buffers = [];\n",
              "      let downloaded = 0;\n",
              "\n",
              "      const channel = await google.colab.kernel.comms.open(id);\n",
              "      // Send a message to notify the kernel that we're ready.\n",
              "      channel.send({})\n",
              "\n",
              "      for await (const message of channel.messages) {\n",
              "        // Send a message to notify the kernel that we're ready.\n",
              "        channel.send({})\n",
              "        if (message.buffers) {\n",
              "          for (const buffer of message.buffers) {\n",
              "            buffers.push(buffer);\n",
              "            downloaded += buffer.byteLength;\n",
              "            progress.value = downloaded;\n",
              "          }\n",
              "        }\n",
              "      }\n",
              "      const blob = new Blob(buffers, {type: 'application/binary'});\n",
              "      const a = document.createElement('a');\n",
              "      a.href = window.URL.createObjectURL(blob);\n",
              "      a.download = filename;\n",
              "      div.appendChild(a);\n",
              "      a.click();\n",
              "      div.remove();\n",
              "    }\n",
              "  "
            ],
            "text/plain": [
              "<IPython.core.display.Javascript object>"
            ]
          },
          "metadata": {
            "tags": []
          }
        },
        {
          "output_type": "display_data",
          "data": {
            "application/javascript": [
              "download(\"download_5168ee04-6214-4b6e-a09f-b86ad9bcedbf\", \"f122march_profile.json\", 10829)"
            ],
            "text/plain": [
              "<IPython.core.display.Javascript object>"
            ]
          },
          "metadata": {
            "tags": []
          }
        },
        {
          "output_type": "stream",
          "text": [
            "1\n"
          ],
          "name": "stdout"
        },
        {
          "output_type": "display_data",
          "data": {
            "application/javascript": [
              "\n",
              "    async function download(id, filename, size) {\n",
              "      if (!google.colab.kernel.accessAllowed) {\n",
              "        return;\n",
              "      }\n",
              "      const div = document.createElement('div');\n",
              "      const label = document.createElement('label');\n",
              "      label.textContent = `Downloading \"${filename}\": `;\n",
              "      div.appendChild(label);\n",
              "      const progress = document.createElement('progress');\n",
              "      progress.max = size;\n",
              "      div.appendChild(progress);\n",
              "      document.body.appendChild(div);\n",
              "\n",
              "      const buffers = [];\n",
              "      let downloaded = 0;\n",
              "\n",
              "      const channel = await google.colab.kernel.comms.open(id);\n",
              "      // Send a message to notify the kernel that we're ready.\n",
              "      channel.send({})\n",
              "\n",
              "      for await (const message of channel.messages) {\n",
              "        // Send a message to notify the kernel that we're ready.\n",
              "        channel.send({})\n",
              "        if (message.buffers) {\n",
              "          for (const buffer of message.buffers) {\n",
              "            buffers.push(buffer);\n",
              "            downloaded += buffer.byteLength;\n",
              "            progress.value = downloaded;\n",
              "          }\n",
              "        }\n",
              "      }\n",
              "      const blob = new Blob(buffers, {type: 'application/binary'});\n",
              "      const a = document.createElement('a');\n",
              "      a.href = window.URL.createObjectURL(blob);\n",
              "      a.download = filename;\n",
              "      div.appendChild(a);\n",
              "      a.click();\n",
              "      div.remove();\n",
              "    }\n",
              "  "
            ],
            "text/plain": [
              "<IPython.core.display.Javascript object>"
            ]
          },
          "metadata": {
            "tags": []
          }
        },
        {
          "output_type": "display_data",
          "data": {
            "application/javascript": [
              "download(\"download_969d6d1f-9487-4e1b-9f6e-b06ae5b03543\", \"f123november_profile.json\", 10837)"
            ],
            "text/plain": [
              "<IPython.core.display.Javascript object>"
            ]
          },
          "metadata": {
            "tags": []
          }
        },
        {
          "output_type": "display_data",
          "data": {
            "application/javascript": [
              "\n",
              "    async function download(id, filename, size) {\n",
              "      if (!google.colab.kernel.accessAllowed) {\n",
              "        return;\n",
              "      }\n",
              "      const div = document.createElement('div');\n",
              "      const label = document.createElement('label');\n",
              "      label.textContent = `Downloading \"${filename}\": `;\n",
              "      div.appendChild(label);\n",
              "      const progress = document.createElement('progress');\n",
              "      progress.max = size;\n",
              "      div.appendChild(progress);\n",
              "      document.body.appendChild(div);\n",
              "\n",
              "      const buffers = [];\n",
              "      let downloaded = 0;\n",
              "\n",
              "      const channel = await google.colab.kernel.comms.open(id);\n",
              "      // Send a message to notify the kernel that we're ready.\n",
              "      channel.send({})\n",
              "\n",
              "      for await (const message of channel.messages) {\n",
              "        // Send a message to notify the kernel that we're ready.\n",
              "        channel.send({})\n",
              "        if (message.buffers) {\n",
              "          for (const buffer of message.buffers) {\n",
              "            buffers.push(buffer);\n",
              "            downloaded += buffer.byteLength;\n",
              "            progress.value = downloaded;\n",
              "          }\n",
              "        }\n",
              "      }\n",
              "      const blob = new Blob(buffers, {type: 'application/binary'});\n",
              "      const a = document.createElement('a');\n",
              "      a.href = window.URL.createObjectURL(blob);\n",
              "      a.download = filename;\n",
              "      div.appendChild(a);\n",
              "      a.click();\n",
              "      div.remove();\n",
              "    }\n",
              "  "
            ],
            "text/plain": [
              "<IPython.core.display.Javascript object>"
            ]
          },
          "metadata": {
            "tags": []
          }
        },
        {
          "output_type": "display_data",
          "data": {
            "application/javascript": [
              "download(\"download_6ad82b39-e068-4edc-ba0c-4522f27967c4\", \"f123december_profile.json\", 10839)"
            ],
            "text/plain": [
              "<IPython.core.display.Javascript object>"
            ]
          },
          "metadata": {
            "tags": []
          }
        },
        {
          "output_type": "display_data",
          "data": {
            "application/javascript": [
              "\n",
              "    async function download(id, filename, size) {\n",
              "      if (!google.colab.kernel.accessAllowed) {\n",
              "        return;\n",
              "      }\n",
              "      const div = document.createElement('div');\n",
              "      const label = document.createElement('label');\n",
              "      label.textContent = `Downloading \"${filename}\": `;\n",
              "      div.appendChild(label);\n",
              "      const progress = document.createElement('progress');\n",
              "      progress.max = size;\n",
              "      div.appendChild(progress);\n",
              "      document.body.appendChild(div);\n",
              "\n",
              "      const buffers = [];\n",
              "      let downloaded = 0;\n",
              "\n",
              "      const channel = await google.colab.kernel.comms.open(id);\n",
              "      // Send a message to notify the kernel that we're ready.\n",
              "      channel.send({})\n",
              "\n",
              "      for await (const message of channel.messages) {\n",
              "        // Send a message to notify the kernel that we're ready.\n",
              "        channel.send({})\n",
              "        if (message.buffers) {\n",
              "          for (const buffer of message.buffers) {\n",
              "            buffers.push(buffer);\n",
              "            downloaded += buffer.byteLength;\n",
              "            progress.value = downloaded;\n",
              "          }\n",
              "        }\n",
              "      }\n",
              "      const blob = new Blob(buffers, {type: 'application/binary'});\n",
              "      const a = document.createElement('a');\n",
              "      a.href = window.URL.createObjectURL(blob);\n",
              "      a.download = filename;\n",
              "      div.appendChild(a);\n",
              "      a.click();\n",
              "      div.remove();\n",
              "    }\n",
              "  "
            ],
            "text/plain": [
              "<IPython.core.display.Javascript object>"
            ]
          },
          "metadata": {
            "tags": []
          }
        },
        {
          "output_type": "display_data",
          "data": {
            "application/javascript": [
              "download(\"download_04724da5-ab58-4f65-9604-912938dd5616\", \"f123january_profile.json\", 10822)"
            ],
            "text/plain": [
              "<IPython.core.display.Javascript object>"
            ]
          },
          "metadata": {
            "tags": []
          }
        },
        {
          "output_type": "display_data",
          "data": {
            "application/javascript": [
              "\n",
              "    async function download(id, filename, size) {\n",
              "      if (!google.colab.kernel.accessAllowed) {\n",
              "        return;\n",
              "      }\n",
              "      const div = document.createElement('div');\n",
              "      const label = document.createElement('label');\n",
              "      label.textContent = `Downloading \"${filename}\": `;\n",
              "      div.appendChild(label);\n",
              "      const progress = document.createElement('progress');\n",
              "      progress.max = size;\n",
              "      div.appendChild(progress);\n",
              "      document.body.appendChild(div);\n",
              "\n",
              "      const buffers = [];\n",
              "      let downloaded = 0;\n",
              "\n",
              "      const channel = await google.colab.kernel.comms.open(id);\n",
              "      // Send a message to notify the kernel that we're ready.\n",
              "      channel.send({})\n",
              "\n",
              "      for await (const message of channel.messages) {\n",
              "        // Send a message to notify the kernel that we're ready.\n",
              "        channel.send({})\n",
              "        if (message.buffers) {\n",
              "          for (const buffer of message.buffers) {\n",
              "            buffers.push(buffer);\n",
              "            downloaded += buffer.byteLength;\n",
              "            progress.value = downloaded;\n",
              "          }\n",
              "        }\n",
              "      }\n",
              "      const blob = new Blob(buffers, {type: 'application/binary'});\n",
              "      const a = document.createElement('a');\n",
              "      a.href = window.URL.createObjectURL(blob);\n",
              "      a.download = filename;\n",
              "      div.appendChild(a);\n",
              "      a.click();\n",
              "      div.remove();\n",
              "    }\n",
              "  "
            ],
            "text/plain": [
              "<IPython.core.display.Javascript object>"
            ]
          },
          "metadata": {
            "tags": []
          }
        },
        {
          "output_type": "display_data",
          "data": {
            "application/javascript": [
              "download(\"download_b12271c1-6eac-4e5d-96cf-6ca9bff8363a\", \"f123february_profile.json\", 10822)"
            ],
            "text/plain": [
              "<IPython.core.display.Javascript object>"
            ]
          },
          "metadata": {
            "tags": []
          }
        },
        {
          "output_type": "display_data",
          "data": {
            "application/javascript": [
              "\n",
              "    async function download(id, filename, size) {\n",
              "      if (!google.colab.kernel.accessAllowed) {\n",
              "        return;\n",
              "      }\n",
              "      const div = document.createElement('div');\n",
              "      const label = document.createElement('label');\n",
              "      label.textContent = `Downloading \"${filename}\": `;\n",
              "      div.appendChild(label);\n",
              "      const progress = document.createElement('progress');\n",
              "      progress.max = size;\n",
              "      div.appendChild(progress);\n",
              "      document.body.appendChild(div);\n",
              "\n",
              "      const buffers = [];\n",
              "      let downloaded = 0;\n",
              "\n",
              "      const channel = await google.colab.kernel.comms.open(id);\n",
              "      // Send a message to notify the kernel that we're ready.\n",
              "      channel.send({})\n",
              "\n",
              "      for await (const message of channel.messages) {\n",
              "        // Send a message to notify the kernel that we're ready.\n",
              "        channel.send({})\n",
              "        if (message.buffers) {\n",
              "          for (const buffer of message.buffers) {\n",
              "            buffers.push(buffer);\n",
              "            downloaded += buffer.byteLength;\n",
              "            progress.value = downloaded;\n",
              "          }\n",
              "        }\n",
              "      }\n",
              "      const blob = new Blob(buffers, {type: 'application/binary'});\n",
              "      const a = document.createElement('a');\n",
              "      a.href = window.URL.createObjectURL(blob);\n",
              "      a.download = filename;\n",
              "      div.appendChild(a);\n",
              "      a.click();\n",
              "      div.remove();\n",
              "    }\n",
              "  "
            ],
            "text/plain": [
              "<IPython.core.display.Javascript object>"
            ]
          },
          "metadata": {
            "tags": []
          }
        },
        {
          "output_type": "display_data",
          "data": {
            "application/javascript": [
              "download(\"download_d3e3cda9-f8c4-44db-9a91-fbf2f4176f43\", \"f123march_profile.json\", 10832)"
            ],
            "text/plain": [
              "<IPython.core.display.Javascript object>"
            ]
          },
          "metadata": {
            "tags": []
          }
        }
      ]
    },
    {
      "cell_type": "code",
      "metadata": {
        "id": "P7PUdf24RICx"
      },
      "source": [
        "\n",
        "month=[\"november\",\"december\",\"january\",\"february\",\"march\"]\n",
        "screen_name= ['f122','f123']"
      ],
      "execution_count": null,
      "outputs": []
    },
    {
      "cell_type": "code",
      "metadata": {
        "id": "zpz7yFzkrDfj",
        "colab": {
          "base_uri": "https://localhost:8080/",
          "height": 901
        },
        "outputId": "407490d3-e57e-48b1-fd72-f5d1747c3af2"
      },
      "source": [
        "#Suniv File Name \n",
        "\n",
        "#ready=input()\n",
        "monthC=[\"November\",\"December\",\"January\",\"February\",\"March\",\"April\"]\n",
        "#screen_name=[\"p\",\"f1\",\"f2\",\"f3\",\"f4\",\"f5\"]\n",
        "\n",
        "exceptList=[]\n",
        "\n",
        "for i in range(0,len(screen_name)):\n",
        "  print(i)\n",
        "  for j in range(0,len(month)):\n",
        "    try:\n",
        "      print(j)\n",
        "      \n",
        "      csvToJsonSuniv(screen_name[i],monthC[j])\n",
        "      fixedMonth=monthC[j].lower()\n",
        "      valueCalculate(screen_name[i],fixedMonth)\n",
        "    except Exception as e:\n",
        "      print(e)\n",
        "      \n",
        "\n",
        "      \n",
        "    \n"
      ],
      "execution_count": null,
      "outputs": [
        {
          "output_type": "stream",
          "text": [
            "0\n",
            "0\n",
            "IN  f122 November\n",
            "Converted to:  f122november\n",
            "Processing Values....\n",
            "done\n",
            "1\n",
            "IN  f122 December\n",
            "Converted to:  f122december\n",
            "Processing Values....\n",
            "done\n",
            "2\n",
            "IN  f122 January\n",
            "Converted to:  f122january\n",
            "Processing Values....\n",
            "done\n",
            "3\n",
            "IN  f122 February\n",
            "Converted to:  f122february\n",
            "Processing Values....\n",
            "done\n",
            "4\n",
            "IN  f122 March\n",
            "Converted to:  f122march\n",
            "Processing Values....\n",
            "done\n",
            "1\n",
            "0\n",
            "IN  f123 November\n",
            "Converted to:  f123november\n",
            "Processing Values....\n",
            "done\n",
            "1\n",
            "IN  f123 December\n",
            "Converted to:  f123december\n",
            "Processing Values....\n",
            "done\n",
            "2\n",
            "IN  f123 January\n",
            "Converted to:  f123january\n",
            "Processing Values....\n",
            "done\n",
            "3\n",
            "IN  f123 February\n",
            "Converted to:  f123february\n",
            "Processing Values....\n",
            "done\n",
            "4\n",
            "IN  f123 March\n",
            "Converted to:  f123march\n",
            "Processing Values....\n",
            "done\n"
          ],
          "name": "stdout"
        }
      ]
    },
    {
      "cell_type": "code",
      "metadata": {
        "id": "oOIIDlAgTwbb"
      },
      "source": [
        "#Suniv File Name\n",
        "\n",
        "def csvToJsonSuniv(user,month):\n",
        "  print(\"IN \",user,month)\n",
        "  #OG File\n",
        "  filename=user+\"-\"+month\n",
        "  data=pd.read_csv(\"%s - Sheet1.csv\"%filename)\n",
        "  dataLen=len(data)\n",
        "  \n",
        "  \n",
        "  #change filename\n",
        "  month=month.lower()\n",
        "  filename=user+month\n",
        "  print(\"Converted to: \",filename)\n",
        "  dataDict=dict()\n",
        "  dataList=[]\n",
        "  dataDict['contentItems']=dataList \n",
        "  dateTemp=0\n",
        "  perDayLimit=0\n",
        "  for i,rows in data.iterrows():\n",
        "    dataIter=dict()\n",
        "    \n",
        "    dataIter['content']=rows['Post Content']\n",
        "    dataList.append(dataIter)\n",
        "    perDayLimit=perDayLimit+1\n",
        "    if perDayLimit==10:\n",
        "      dateTemp=dateTemp+1\n",
        "      perDayLimit=0\n",
        "    \n",
        "\n",
        "    #to JSON\n",
        "\n",
        "\n",
        "    with open(\"%s.json\"%filename,'w',encoding=\"utf8\")as f:\n",
        "      text=json.dumps(dataDict,indent=2,default=str)\n",
        "      f.write(text)\n",
        "    f.close()\n",
        "  \n",
        "\n",
        "      "
      ],
      "execution_count": null,
      "outputs": []
    },
    {
      "cell_type": "code",
      "metadata": {
        "id": "aMakUmpCgLfZ",
        "colab": {
          "base_uri": "https://localhost:8080/",
          "height": 187
        },
        "outputId": "00ee6dab-4aba-4a9e-de3c-56b00d742aa3"
      },
      "source": [
        "#individual processing\n",
        "\n",
        "print(\"Enter number to process\")\n",
        "tempnum=input()\n",
        "print(\"Enter month:\\n1. November\\n2. December\\n3. January\\n4. February\\n5. March\\n\")\n",
        "monthnum=input()\n",
        "\n",
        "if monthnum==1:\n",
        "  csvToJson(\"%s%s\"%(tempnum,\"november\"))\n",
        "  valueCalculate(tempnum,\"november\")\n",
        "if monthnum==2:\n",
        "  csvToJson(\"%s%s\"%(tempnum,\"december\"))\n",
        "  valueCalculate(tempnum,\"december\")\n",
        "if monthnum==3:\n",
        "  csvToJson(\"%s%s\"%(tempnum,\"january\"))\n",
        "  valueCalculate(tempnum,\"january\")\n",
        "if monthnum==4:\n",
        "  csvToJson(\"%s%s\"%(tempnum,\"february\"))\n",
        "  valueCalculate(tempnum,\"february\")\n",
        "if monthnum==5:\n",
        "  csvToJson(\"%s%s\"%(tempnum,\"march\"))\n",
        "  valueCalculate(tempnum,\"march\")\n",
        "if monthnum==6:\n",
        "  csvToJson(\"%s%s\"%(tempnum,\"april\"))\n",
        "  valueCalculate(tempnum,\"april\")\n",
        "\n",
        "\n"
      ],
      "execution_count": null,
      "outputs": [
        {
          "output_type": "stream",
          "text": [
            "Enter number to process\n",
            "f8\n",
            "Enter month:\n",
            "1. November\n",
            "2. December\n",
            "3. January\n",
            "4. February\n",
            "5. March\n",
            "\n",
            "1\n"
          ],
          "name": "stdout"
        }
      ]
    },
    {
      "cell_type": "code",
      "metadata": {
        "id": "CQ4giFaFVepq"
      },
      "source": [
        "#PATCHED\n",
        "print(\"Enter number to process\")\n",
        "tempnum=input()\n",
        "print(\"Enter month:\\n1. November\\n2. December\\n3. January\\n4. February\\n5. March\\n\")\n",
        "monthnum=input\n",
        "\n",
        "if monthnum==1:\n",
        "  csvToJsonPatch(\"%s%s\"%(tempnum,\"november\"))\n",
        "  valueCalculate(tempnum,\"november\")\n",
        "if monthnum==2:\n",
        "  csvToJsonPatch(\"%s%s\"%(tempnum,\"december\"))\n",
        "  valueCalculate(tempnum,\"december\")\n",
        "if monthnum==3:\n",
        "  csvToJsonPatch(\"%s%s\"%(tempnum,\"january\"))\n",
        "  valueCalculate(tempnum,\"january\")\n",
        "if monthnum==4:\n",
        "  csvToJsonPatch(\"%s%s\"%(tempnum,\"february\"))\n",
        "  valueCalculate(tempnum,\"february\")\n",
        "if monthnum==5:\n",
        "  csvToJsonPatch(\"%s%s\"%(tempnum,\"march\"))\n",
        "  valueCalculate(tempnum,\"march\")\n",
        "if monthnum==6:\n",
        "  csvToJsonPatch(\"%s%s\"%(tempnum,\"april\"))\n",
        "  valueCalculate(tempnum,\"april\")\n",
        "\n",
        "\n"
      ],
      "execution_count": null,
      "outputs": []
    },
    {
      "cell_type": "code",
      "metadata": {
        "id": "3mklTQ2eeHK9"
      },
      "source": [
        "print(timetounix(\"21/12/19\",\"2:00 PM\"))"
      ],
      "execution_count": null,
      "outputs": []
    }
  ]
}