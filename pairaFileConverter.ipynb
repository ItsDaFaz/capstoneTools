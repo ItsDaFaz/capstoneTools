{
  "nbformat": 4,
  "nbformat_minor": 0,
  "metadata": {
    "colab": {
      "name": "pairaFileConverter.ipynb",
      "provenance": [],
      "collapsed_sections": []
    },
    "kernelspec": {
      "name": "python3",
      "display_name": "Python 3"
    }
  },
  "cells": [
    {
      "cell_type": "code",
      "metadata": {
        "id": "1tWyKskZuYD7"
      },
      "source": [
        "import json\n",
        "import csv\n",
        "import pandas as pd\n",
        "import sys\n",
        "import datetime\n",
        "import time"
      ],
      "execution_count": null,
      "outputs": []
    },
    {
      "cell_type": "code",
      "metadata": {
        "id": "GtVLWK-YE66k"
      },
      "source": [
        "def unique(list1): \n",
        "  \n",
        "    # intilize a null list \n",
        "    unique_list = [] \n",
        "      \n",
        "    # traverse for all elements \n",
        "    for x in list1: \n",
        "        # check if exists in unique_list or not \n",
        "        if x not in unique_list: \n",
        "            unique_list.append(x) \n",
        "    return unique_list\n",
        "        "
      ],
      "execution_count": null,
      "outputs": []
    },
    {
      "cell_type": "code",
      "metadata": {
        "id": "ObWPndflt08u"
      },
      "source": [
        "def timetounix(date,time):\n",
        "  #for split date     1. Date     2. Month      3.Year\n",
        "  splitdate=date.split('/')\n",
        "\n",
        "  splitclock=time.split()\n",
        "\n",
        "  splittime=splitclock[0].split(\":\")\n",
        "  \n",
        "  if(splitclock[1]=='PM'):\n",
        "    minute=int(splittime[0])\n",
        "    minute=minute+12\n",
        "    splittime[0]=str(minute)\n",
        "\n",
        "  return splitdate,splittime\n",
        "  "
      ],
      "execution_count": null,
      "outputs": []
    },
    {
      "cell_type": "code",
      "metadata": {
        "id": "R0PhOc_0DIOh"
      },
      "source": [
        "def nameSort(filename):\n",
        "  data=pd.read_csv(\"%s.csv\"%filename)\n",
        "  names=data.fullname.to_string(index=False)\n",
        "  names=names.splitlines()\n",
        "  \n",
        "  for i in range (0,len(names)):\n",
        "    names[i]=names[i].strip()\n",
        "  names=unique(names)\n",
        "  return names\n"
      ],
      "execution_count": null,
      "outputs": []
    },
    {
      "cell_type": "code",
      "metadata": {
        "id": "rVujSKQ9oeZq"
      },
      "source": [
        "def csvToJson(filename):\n",
        "  #from CSV\n",
        "  nameslist=nameSort(filename)\n",
        "  print(\"List here,\",nameslist)\n",
        "  data=pd.read_csv(\"%s.csv\"%filename)\n",
        "  dataLen=len(data)\n",
        "  #print(dataLen)\n",
        "  dataDict=dict()\n",
        "  dataList=[]\n",
        "  dataDict['contentItems']=dataList\n",
        "  for n in nameslist:  \n",
        "    for i,rows in data.iterrows():\n",
        "      dataIter=dict()\n",
        "      #dataIter=rows.id,rows.parentid,rows.fullname,rows.date,rows.time,rows.isreply,rows.isforward,rows.postcontent\n",
        "      \n",
        "      if(rows.fullname==n):\n",
        "        dataIter['content']=rows.postcontent\n",
        "\n",
        "        splitdate,splittime=timetounix(rows.date,rows.time)\n",
        "        d=datetime.datetime(int(splitdate[2]),int(splitdate[1]),int(splitdate[0]))\n",
        "        unixtime = time.mktime(d.timetuple())\n",
        "        dataIter['created']=int(unixtime)\n",
        "        dataIter['id']=str(rows.id)\n",
        "        dataIter['parentid']=str(rows.parentid)\n",
        "        dataIter['reply']=rows.isreply\n",
        "        dataIter['forward']=rows.isforward\n",
        "        dataList.append(dataIter)\n",
        "\n",
        "    #to JSON\n",
        "\n",
        "\n",
        "    with open(\"%s.json\"%n,'w',encoding=\"utf8\")as f:\n",
        "      text=json.dumps(dataDict,indent=2,default=str)\n",
        "      f.write(text)\n",
        "    f.close()\n",
        "\n",
        "\n",
        "\n",
        "  "
      ],
      "execution_count": null,
      "outputs": []
    },
    {
      "cell_type": "code",
      "metadata": {
        "id": "p4z_CEYhADDy"
      },
      "source": [
        "def jsonToCsv(filename):\n",
        "  #from\n",
        "  with open(\"%s.json\"%filename)as f:\n",
        "    data=json.load(f)\n",
        "\n",
        "  content_data=data['contentItems']\n",
        "\n",
        "  data_file=open(\"%s_out.csv\"%filename,'w')\n",
        "\n",
        "  csv_writer=csv.writer(data_file)\n",
        "\n",
        "  count=0\n",
        "\n",
        "  for i in content_data:\n",
        "    if count==0:\n",
        "      header=i.keys()\n",
        "      csv_writer.writerow(header)\n",
        "      count+=1\n",
        "\n",
        "    csv_writer.writerow(i.values())\n",
        "  data_file.close()\n"
      ],
      "execution_count": null,
      "outputs": []
    },
    {
      "cell_type": "code",
      "metadata": {
        "id": "9AnMrQPhJWJj",
        "colab": {
          "base_uri": "https://localhost:8080/",
          "height": 54
        },
        "outputId": "cf0a78b0-e2f7-49eb-f1e1-d8293ea2e876"
      },
      "source": [
        "\n",
        "csvToJson(\"PersonalGroup\")\n",
        "#jsonToCsv(\"PersonalGroup\")"
      ],
      "execution_count": null,
      "outputs": [
        {
          "output_type": "stream",
          "text": [
            "List here, ['Jake Peralta', 'Charles Boyle', 'Raymond Holt', 'Amy Santiago', 'Gina Linetti', 'Michael Hitchcock', 'Norm Scully']\n"
          ],
          "name": "stdout"
        }
      ]
    }
  ]
}