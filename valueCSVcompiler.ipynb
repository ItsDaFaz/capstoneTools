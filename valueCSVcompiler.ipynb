{
  "nbformat": 4,
  "nbformat_minor": 0,
  "metadata": {
    "colab": {
      "name": "valueCSVcompiler.ipynb",
      "provenance": [],
      "collapsed_sections": []
    },
    "kernelspec": {
      "name": "python3",
      "display_name": "Python 3"
    }
  },
  "cells": [
    {
      "cell_type": "code",
      "metadata": {
        "id": "pY4W3gY0nTht"
      },
      "source": [
        "import json\n",
        "import csv"
      ],
      "execution_count": null,
      "outputs": []
    },
    {
      "cell_type": "code",
      "metadata": {
        "id": "d8c7TKr3oHpf"
      },
      "source": [
        "#CODE TO STORE JSON PROFILES\n",
        "def readJson(name,month):\n",
        "  fileP=open('%s%s_profile.json'%(name,month))\n",
        "  fileReadLine=fileP.read()\n",
        "  profile_dict=json.loads(fileReadLine)\n",
        "  return profile_dict\n",
        "  \n",
        "\n",
        "  \n",
        "\n"
      ],
      "execution_count": null,
      "outputs": []
    },
    {
      "cell_type": "code",
      "metadata": {
        "id": "wIVWVss3orhl"
      },
      "source": [
        "class people:\n",
        "  def __init__(self,id,name,month,conservation,opennesstochange,hedonism,selfEnhancement,selfTranscendence):\n",
        "    \n",
        "    self.id=id\n",
        "    self.name=name\n",
        "    self.month=month\n",
        "    self.conservation=conservation\n",
        "    self.opennesstochange=opennesstochange\n",
        "    self.hedonism=hedonism\n",
        "    self.selfEnhancement=selfEnhancement\n",
        "    self.selfTranscendence=selfTranscendence\n",
        "    print(\"Created person:\",self.conservation,self.opennesstochange,self.hedonism,self.selfEnhancement,self.selfTranscendence)"
      ],
      "execution_count": null,
      "outputs": []
    },
    {
      "cell_type": "code",
      "metadata": {
        "id": "6tbLtPi2p6mx",
        "colab": {
          "base_uri": "https://localhost:8080/",
          "height": 442
        },
        "outputId": "2c69ae4b-e7b8-44d2-c1b8-6c72e17855d0"
      },
      "source": [
        "userprofile=[]\n",
        "month=[\"november\",\"december\",\"january\",\"february\",\"march\"]\n",
        "name=[\"p\",\"f1\",\"f2\",\"f3\",\"f4\"]\n",
        "idnum=0\n",
        "for i in range(0,len(name)):\n",
        "  for j in range(0,len(month)):\n",
        "    profile_dict=readJson(name[i],month[j])\n",
        "    conservation=profile_dict['values'][0]['percentile']\n",
        "    opennesstochange=profile_dict['values'][1]['percentile']\n",
        "    hedonism=profile_dict['values'][2]['percentile']\n",
        "    selfEnhancement=profile_dict['values'][3]['percentile']\n",
        "    selfTranscendence=profile_dict['values'][4]['percentile']\n",
        "    newprofile=people(idnum,name[i],month[j],conservation,opennesstochange,hedonism,selfEnhancement,selfTranscendence)\n",
        "    userprofile.append(newprofile)\n",
        "    idnum=+1\n",
        "\n",
        "\n",
        "\n"
      ],
      "execution_count": null,
      "outputs": [
        {
          "output_type": "stream",
          "text": [
            "Created person: 0.2042546311080401 0.5832951400691953 0.09071228095066514 0.5191157348783821 0.2526216776770005\n",
            "Created person: 0.2042546311080401 0.5832951400691953 0.09071228095066514 0.5191157348783821 0.2526216776770005\n",
            "Created person: 0.003927228555256679 0.6174772534105966 0.06256971217484214 0.1201348943619916 0.27497629328740403\n",
            "Created person: 0.003927228555256679 0.6174772534105966 0.06256971217484214 0.1201348943619916 0.27497629328740403\n",
            "Created person: 0.3147824565912979 0.5010334509626854 0.022385811451089088 0.0011164002703399345 0.6338139825543058\n",
            "Created person: 0.01615040168915094 0.519803181341931 0.03636403716750436 0.04584551994707953 0.1359057068088595\n",
            "Created person: 0.017124063764491493 0.8183781871223783 0.0687209356136877 0.29016738166129236 0.15585549400381554\n",
            "Created person: 0.005415467683049513 0.5530041063107395 0.012480857413974866 0.03701350738863929 0.08421821328751922\n",
            "Created person: 0.042468762401739635 0.755580054861823 0.06042562486604147 0.4053659011371154 0.12507210626523824\n",
            "Created person: 0.04231549385126693 0.692089908186838 0.03811483503075941 0.12164128492167953 0.18294815450084562\n",
            "Created person: 0.42592253229953503 0.42994627544795405 0.03827433969629318 0.35520132641421515 0.050809520282094844\n",
            "Created person: 0.6494973483951841 0.40922865607449715 0.02179568499682971 0.06350157407422641 0.24912216675195153\n",
            "Created person: 0.31833781950978723 0.5746312974013992 0.03743091700950624 0.20642724018377445 0.11728156266099243\n",
            "Created person: 0.06327341445445189 0.7058505857325644 0.029524186874844927 0.3209273526733759 0.09137134901272514\n",
            "Created person: 0.020129130151831598 0.5172966032648906 0.10267990600184829 0.1266777126731018 0.1922639424474456\n",
            "Created person: 0.5659570993867136 0.6559172270025304 0.048714464229794585 0.2949194788387448 0.30020638490126306\n",
            "Created person: 0.4060644474831105 0.8279008110456566 0.028173378810251615 0.22123874100541402 0.5372818867346991\n",
            "Created person: 0.457393517770331 0.6355893707910205 0.11081518567999665 0.3235767446337629 0.43850178596904477\n",
            "Created person: 0.44005985452768226 0.8810421606855947 0.08936767684905172 0.25198761698349414 0.7903272031992093\n",
            "Created person: 0.02630419344303736 0.3139635049670489 0.017694631824444584 0.003249454782635608 0.22372154231827807\n",
            "Created person: 0.5237541547142877 0.7717629166896471 0.11167984466571529 0.6352873379037884 0.49529985449447955\n",
            "Created person: 0.5263761973558515 0.7696276885707383 0.07373651037228551 0.3486520245311847 0.5797991366942692\n",
            "Created person: 0.24281686474277908 0.7578777930745619 0.037666725253314715 0.5177115532408015 0.31421871923065164\n",
            "Created person: 0.3212572191893551 0.6362726618799341 0.04932599411643607 0.36280869724583314 0.3680712988903858\n",
            "Created person: 0.4304214217738379 0.6851177219250424 0.08608601427466506 0.5486458515502202 0.38895921585734705\n"
          ],
          "name": "stdout"
        }
      ]
    },
    {
      "cell_type": "code",
      "metadata": {
        "id": "D9khB5oOujEr",
        "colab": {
          "base_uri": "https://localhost:8080/",
          "height": 887
        },
        "outputId": "0cfd97ea-5d6a-46bd-d80a-70563a77cd59"
      },
      "source": [
        "valueList=[\"conservation\",\"opennesstochange\",\"hedonism\",\"selfEnhancement\",\"selfTranscendence\"]\n",
        "\n",
        "for i in range(0,len(valueList)):\n",
        "  with open(\"%s.csv\"%valueList[i],'w') as file:\n",
        "    writer=csv.writer(file)\n",
        "    writer.writerow([\"timeline\",valueList[i],\"f1\",\"f2\",\"f3\",\"f4\"])\n",
        "    for j in range(0,len(month)):\n",
        "      print(\"For\",)\n",
        "      writer.writerow([j,*listofvalue(month[j],valueList[i])])\n",
        "  \n",
        "  file.close()\n",
        "  \n",
        "    "
      ],
      "execution_count": null,
      "outputs": [
        {
          "output_type": "stream",
          "text": [
            "For\n",
            "returned list  [0.2042546311080401, 0.01615040168915094, 0.42592253229953503, 0.5659570993867136, 0.5237541547142877]\n",
            "For\n",
            "returned list  [0.2042546311080401, 0.017124063764491493, 0.6494973483951841, 0.4060644474831105, 0.5263761973558515]\n",
            "For\n",
            "returned list  [0.003927228555256679, 0.005415467683049513, 0.31833781950978723, 0.457393517770331, 0.24281686474277908]\n",
            "For\n",
            "returned list  [0.003927228555256679, 0.042468762401739635, 0.06327341445445189, 0.44005985452768226, 0.3212572191893551]\n",
            "For\n",
            "returned list  [0.3147824565912979, 0.04231549385126693, 0.020129130151831598, 0.02630419344303736, 0.4304214217738379]\n",
            "For\n",
            "returned list  [0.5832951400691953, 0.519803181341931, 0.42994627544795405, 0.6559172270025304, 0.7717629166896471]\n",
            "For\n",
            "returned list  [0.5832951400691953, 0.8183781871223783, 0.40922865607449715, 0.8279008110456566, 0.7696276885707383]\n",
            "For\n",
            "returned list  [0.6174772534105966, 0.5530041063107395, 0.5746312974013992, 0.6355893707910205, 0.7578777930745619]\n",
            "For\n",
            "returned list  [0.6174772534105966, 0.755580054861823, 0.7058505857325644, 0.8810421606855947, 0.6362726618799341]\n",
            "For\n",
            "returned list  [0.5010334509626854, 0.692089908186838, 0.5172966032648906, 0.3139635049670489, 0.6851177219250424]\n",
            "For\n",
            "returned list  [0.09071228095066514, 0.03636403716750436, 0.03827433969629318, 0.048714464229794585, 0.11167984466571529]\n",
            "For\n",
            "returned list  [0.09071228095066514, 0.0687209356136877, 0.02179568499682971, 0.028173378810251615, 0.07373651037228551]\n",
            "For\n",
            "returned list  [0.06256971217484214, 0.012480857413974866, 0.03743091700950624, 0.11081518567999665, 0.037666725253314715]\n",
            "For\n",
            "returned list  [0.06256971217484214, 0.06042562486604147, 0.029524186874844927, 0.08936767684905172, 0.04932599411643607]\n",
            "For\n",
            "returned list  [0.022385811451089088, 0.03811483503075941, 0.10267990600184829, 0.017694631824444584, 0.08608601427466506]\n",
            "For\n",
            "returned list  [0.5191157348783821, 0.04584551994707953, 0.35520132641421515, 0.2949194788387448, 0.6352873379037884]\n",
            "For\n",
            "returned list  [0.5191157348783821, 0.29016738166129236, 0.06350157407422641, 0.22123874100541402, 0.3486520245311847]\n",
            "For\n",
            "returned list  [0.1201348943619916, 0.03701350738863929, 0.20642724018377445, 0.3235767446337629, 0.5177115532408015]\n",
            "For\n",
            "returned list  [0.1201348943619916, 0.4053659011371154, 0.3209273526733759, 0.25198761698349414, 0.36280869724583314]\n",
            "For\n",
            "returned list  [0.0011164002703399345, 0.12164128492167953, 0.1266777126731018, 0.003249454782635608, 0.5486458515502202]\n",
            "For\n",
            "returned list  [0.2526216776770005, 0.1359057068088595, 0.050809520282094844, 0.30020638490126306, 0.49529985449447955]\n",
            "For\n",
            "returned list  [0.2526216776770005, 0.15585549400381554, 0.24912216675195153, 0.5372818867346991, 0.5797991366942692]\n",
            "For\n",
            "returned list  [0.27497629328740403, 0.08421821328751922, 0.11728156266099243, 0.43850178596904477, 0.31421871923065164]\n",
            "For\n",
            "returned list  [0.27497629328740403, 0.12507210626523824, 0.09137134901272514, 0.7903272031992093, 0.3680712988903858]\n",
            "For\n",
            "returned list  [0.6338139825543058, 0.18294815450084562, 0.1922639424474456, 0.22372154231827807, 0.38895921585734705]\n"
          ],
          "name": "stdout"
        }
      ]
    },
    {
      "cell_type": "code",
      "metadata": {
        "id": "IYhoMFoh7zCc"
      },
      "source": [
        "def listofvalue(monthseek,valueseek):\n",
        "  toReturn=[]\n",
        "  for i in range(0,len(userprofile)):\n",
        "    if userprofile[i].month==monthseek:\n",
        "      if valueseek==\"conservation\":\n",
        "        toReturn.append(userprofile[i].conservation)\n",
        "      elif valueseek==\"opennesstochange\":\n",
        "        toReturn.append(userprofile[i].opennesstochange)\n",
        "      elif valueseek==\"hedonism\":\n",
        "        toReturn.append(userprofile[i].hedonism)\n",
        "      elif valueseek==\"selfEnhancement\":\n",
        "        toReturn.append(userprofile[i].selfEnhancement)\n",
        "      elif valueseek==\"selfTranscendence\":\n",
        "        toReturn.append(userprofile[i].selfTranscendence)\n",
        "\n",
        "  print(\"returned list \",toReturn)\n",
        "  return toReturn\n",
        "\n"
      ],
      "execution_count": null,
      "outputs": []
    },
    {
      "cell_type": "code",
      "metadata": {
        "id": "IeBMRjpD7WF_",
        "colab": {
          "base_uri": "https://localhost:8080/",
          "height": 139
        },
        "outputId": "c2160e0d-e54e-4a6d-a10c-3f360078e900"
      },
      "source": [
        "listofvalue(\"january\",\"conservation\")"
      ],
      "execution_count": null,
      "outputs": [
        {
          "output_type": "stream",
          "text": [
            "returned list  [0.003927228555256679, 0.005415467683049513, 0.31833781950978723, 0.457393517770331, 0.24281686474277908]\n"
          ],
          "name": "stdout"
        },
        {
          "output_type": "execute_result",
          "data": {
            "text/plain": [
              "[0.003927228555256679,\n",
              " 0.005415467683049513,\n",
              " 0.31833781950978723,\n",
              " 0.457393517770331,\n",
              " 0.24281686474277908]"
            ]
          },
          "metadata": {
            "tags": []
          },
          "execution_count": 50
        }
      ]
    }
  ]
}